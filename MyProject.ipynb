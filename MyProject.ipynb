{
 "cells": [
  {
   "cell_type": "markdown",
   "id": "3208c1ed-7324-4b26-9403-d3b3ee539089",
   "metadata": {},
   "source": [
    "## Car Prices Project"
   ]
  },
  {
   "cell_type": "code",
   "execution_count": 1,
   "id": "fe1acc73-2593-4ca8-9b40-27880370bb67",
   "metadata": {
    "tags": []
   },
   "outputs": [],
   "source": [
    "### importing libraries\n",
    "import pandas as pd\n",
    "import numpy as np\n",
    "import seaborn as sns\n",
    "import matplotlib.pyplot as plt\n",
    "%matplotlib inline\n",
    "\n",
    "import tensorflow as tf\n",
    "import missingno as msn"
   ]
  },
  {
   "cell_type": "code",
   "execution_count": 2,
   "id": "90b77b1e-a89a-4a83-913d-167610eeacd9",
   "metadata": {
    "tags": []
   },
   "outputs": [],
   "source": [
    "car_data = pd.read_csv('Clean Data_pakwheels.csv')\n",
    "df = car_data.copy()"
   ]
  },
  {
   "cell_type": "code",
   "execution_count": 3,
   "id": "aa0da335-0874-481b-85c0-d2d835e019e2",
   "metadata": {
    "tags": []
   },
   "outputs": [
    {
     "data": {
      "text/html": [
       "<div>\n",
       "<style scoped>\n",
       "    .dataframe tbody tr th:only-of-type {\n",
       "        vertical-align: middle;\n",
       "    }\n",
       "\n",
       "    .dataframe tbody tr th {\n",
       "        vertical-align: top;\n",
       "    }\n",
       "\n",
       "    .dataframe thead th {\n",
       "        text-align: right;\n",
       "    }\n",
       "</style>\n",
       "<table border=\"1\" class=\"dataframe\">\n",
       "  <thead>\n",
       "    <tr style=\"text-align: right;\">\n",
       "      <th></th>\n",
       "      <th>Unnamed: 0</th>\n",
       "      <th>Company Name</th>\n",
       "      <th>Model Name</th>\n",
       "      <th>Price</th>\n",
       "      <th>Model Year</th>\n",
       "      <th>Location</th>\n",
       "      <th>Mileage</th>\n",
       "      <th>Engine Type</th>\n",
       "      <th>Engine Capacity</th>\n",
       "      <th>Color</th>\n",
       "      <th>Assembly</th>\n",
       "      <th>Body Type</th>\n",
       "      <th>Transmission Type</th>\n",
       "      <th>Registration Status</th>\n",
       "    </tr>\n",
       "  </thead>\n",
       "  <tbody>\n",
       "    <tr>\n",
       "      <th>0</th>\n",
       "      <td>0</td>\n",
       "      <td>Toyota</td>\n",
       "      <td>Vitz</td>\n",
       "      <td>2385000</td>\n",
       "      <td>2017</td>\n",
       "      <td>Islamabad</td>\n",
       "      <td>9869</td>\n",
       "      <td>Petrol</td>\n",
       "      <td>1000</td>\n",
       "      <td>Silver</td>\n",
       "      <td>Imported</td>\n",
       "      <td>Hatchback</td>\n",
       "      <td>Automatic</td>\n",
       "      <td>Un-Registered</td>\n",
       "    </tr>\n",
       "    <tr>\n",
       "      <th>1</th>\n",
       "      <td>1</td>\n",
       "      <td>Toyota</td>\n",
       "      <td>Corolla</td>\n",
       "      <td>111000</td>\n",
       "      <td>2019</td>\n",
       "      <td>KPK</td>\n",
       "      <td>11111</td>\n",
       "      <td>Petrol</td>\n",
       "      <td>1300</td>\n",
       "      <td>White</td>\n",
       "      <td>Local</td>\n",
       "      <td>Sedan</td>\n",
       "      <td>Automatic</td>\n",
       "      <td>Registered</td>\n",
       "    </tr>\n",
       "    <tr>\n",
       "      <th>2</th>\n",
       "      <td>2</td>\n",
       "      <td>Suzuki</td>\n",
       "      <td>Alto</td>\n",
       "      <td>1530000</td>\n",
       "      <td>2019</td>\n",
       "      <td>KPK</td>\n",
       "      <td>17500</td>\n",
       "      <td>Petrol</td>\n",
       "      <td>660</td>\n",
       "      <td>White</td>\n",
       "      <td>Local</td>\n",
       "      <td>Hatchback</td>\n",
       "      <td>Automatic</td>\n",
       "      <td>Un-Registered</td>\n",
       "    </tr>\n",
       "    <tr>\n",
       "      <th>3</th>\n",
       "      <td>3</td>\n",
       "      <td>Suzuki</td>\n",
       "      <td>Alto</td>\n",
       "      <td>1650000</td>\n",
       "      <td>2019</td>\n",
       "      <td>Punjab</td>\n",
       "      <td>9600</td>\n",
       "      <td>Petrol</td>\n",
       "      <td>660</td>\n",
       "      <td>White</td>\n",
       "      <td>Local</td>\n",
       "      <td>Hatchback</td>\n",
       "      <td>Manual</td>\n",
       "      <td>Registered</td>\n",
       "    </tr>\n",
       "    <tr>\n",
       "      <th>4</th>\n",
       "      <td>4</td>\n",
       "      <td>Toyota</td>\n",
       "      <td>Corolla</td>\n",
       "      <td>1435000</td>\n",
       "      <td>2010</td>\n",
       "      <td>Islamabad</td>\n",
       "      <td>120000</td>\n",
       "      <td>Petrol</td>\n",
       "      <td>1300</td>\n",
       "      <td>Black</td>\n",
       "      <td>Local</td>\n",
       "      <td>Sedan</td>\n",
       "      <td>Manual</td>\n",
       "      <td>Registered</td>\n",
       "    </tr>\n",
       "  </tbody>\n",
       "</table>\n",
       "</div>"
      ],
      "text/plain": [
       "   Unnamed: 0 Company Name Model Name    Price  Model Year   Location  \\\n",
       "0           0       Toyota       Vitz  2385000        2017  Islamabad   \n",
       "1           1       Toyota    Corolla   111000        2019        KPK   \n",
       "2           2       Suzuki       Alto  1530000        2019        KPK   \n",
       "3           3       Suzuki       Alto  1650000        2019     Punjab   \n",
       "4           4       Toyota    Corolla  1435000        2010  Islamabad   \n",
       "\n",
       "   Mileage Engine Type  Engine Capacity   Color  Assembly  Body Type  \\\n",
       "0     9869      Petrol             1000  Silver  Imported  Hatchback   \n",
       "1    11111      Petrol             1300   White     Local      Sedan   \n",
       "2    17500      Petrol              660   White     Local  Hatchback   \n",
       "3     9600      Petrol              660   White     Local  Hatchback   \n",
       "4   120000      Petrol             1300   Black     Local      Sedan   \n",
       "\n",
       "  Transmission Type Registration Status  \n",
       "0         Automatic       Un-Registered  \n",
       "1         Automatic          Registered  \n",
       "2         Automatic       Un-Registered  \n",
       "3            Manual          Registered  \n",
       "4            Manual          Registered  "
      ]
     },
     "execution_count": 3,
     "metadata": {},
     "output_type": "execute_result"
    }
   ],
   "source": [
    "df.head()"
   ]
  },
  {
   "cell_type": "code",
   "execution_count": 4,
   "id": "d29293d3-4c5e-4397-b2c6-fa845d7463a2",
   "metadata": {
    "tags": []
   },
   "outputs": [
    {
     "data": {
      "text/plain": [
       "31"
      ]
     },
     "execution_count": 4,
     "metadata": {},
     "output_type": "execute_result"
    }
   ],
   "source": [
    "df['Company Name'].nunique()"
   ]
  },
  {
   "cell_type": "code",
   "execution_count": 5,
   "id": "c085f242-32e6-4b2f-94cf-d088d6a7c6b4",
   "metadata": {
    "tags": []
   },
   "outputs": [
    {
     "data": {
      "text/plain": [
       "196"
      ]
     },
     "execution_count": 5,
     "metadata": {},
     "output_type": "execute_result"
    }
   ],
   "source": [
    "df['Model Name'].nunique()"
   ]
  },
  {
   "cell_type": "code",
   "execution_count": 6,
   "id": "b634aed9-4d75-41f0-a4db-c666c3741585",
   "metadata": {
    "tags": []
   },
   "outputs": [
    {
     "data": {
      "text/plain": [
       "6"
      ]
     },
     "execution_count": 6,
     "metadata": {},
     "output_type": "execute_result"
    }
   ],
   "source": [
    "df['Body Type'].nunique()"
   ]
  },
  {
   "cell_type": "code",
   "execution_count": 7,
   "id": "57c0432f-e992-43b0-a46b-850e46dc7faa",
   "metadata": {
    "tags": []
   },
   "outputs": [
    {
     "data": {
      "text/plain": [
       "2"
      ]
     },
     "execution_count": 7,
     "metadata": {},
     "output_type": "execute_result"
    }
   ],
   "source": [
    "df['Registration Status'].nunique()"
   ]
  },
  {
   "cell_type": "code",
   "execution_count": 8,
   "id": "3be4c1cb-4b09-4aa2-9b71-181874037694",
   "metadata": {
    "tags": []
   },
   "outputs": [
    {
     "data": {
      "text/plain": [
       "2"
      ]
     },
     "execution_count": 8,
     "metadata": {},
     "output_type": "execute_result"
    }
   ],
   "source": [
    "df['Transmission Type'].nunique()"
   ]
  },
  {
   "cell_type": "code",
   "execution_count": 9,
   "id": "1245f085-a2a4-47f3-a4fa-92934922824f",
   "metadata": {
    "tags": []
   },
   "outputs": [
    {
     "data": {
      "text/plain": [
       "24"
      ]
     },
     "execution_count": 9,
     "metadata": {},
     "output_type": "execute_result"
    }
   ],
   "source": [
    "df['Color'].nunique()"
   ]
  },
  {
   "cell_type": "code",
   "execution_count": 10,
   "id": "66c991d3-74cd-4756-81ed-067e3eb216c1",
   "metadata": {
    "tags": []
   },
   "outputs": [
    {
     "data": {
      "text/plain": [
       "2"
      ]
     },
     "execution_count": 10,
     "metadata": {},
     "output_type": "execute_result"
    }
   ],
   "source": [
    "df['Assembly'].nunique()"
   ]
  },
  {
   "cell_type": "code",
   "execution_count": 11,
   "id": "80b9bfb0-87b6-4e71-8247-58ddf8f90236",
   "metadata": {
    "tags": []
   },
   "outputs": [
    {
     "data": {
      "text/plain": [
       "<Axes: >"
      ]
     },
     "execution_count": 11,
     "metadata": {},
     "output_type": "execute_result"
    },
    {
     "data": {
      "image/png": "[encoded data removed]",
      "text/plain": [
       "<Figure size 2500x1000 with 3 Axes>"
      ]
     },
     "metadata": {},
     "output_type": "display_data"
    }
   ],
   "source": [
    "msn.bar(df)"
   ]
  },
  {
   "cell_type": "code",
   "execution_count": 12,
   "id": "dffd582f-541c-415a-8c5a-798a0bbbe6f1",
   "metadata": {
    "tags": []
   },
   "outputs": [
    {
     "name": "stderr",
     "output_type": "stream",
     "text": [
      "/var/folders/gf/f54qhm4d7mb1zzqch8zq5q8w0000gn/T/ipykernel_36118/1134722465.py:1: FutureWarning: The default value of numeric_only in DataFrame.corr is deprecated. In a future version, it will default to False. Select only valid columns or specify the value of numeric_only to silence this warning.\n",
      "  df.corr()\n"
     ]
    },
    {
     "data": {
      "text/html": [
       "<div>\n",
       "<style scoped>\n",
       "    .dataframe tbody tr th:only-of-type {\n",
       "        vertical-align: middle;\n",
       "    }\n",
       "\n",
       "    .dataframe tbody tr th {\n",
       "        vertical-align: top;\n",
       "    }\n",
       "\n",
       "    .dataframe thead th {\n",
       "        text-align: right;\n",
       "    }\n",
       "</style>\n",
       "<table border=\"1\" class=\"dataframe\">\n",
       "  <thead>\n",
       "    <tr style=\"text-align: right;\">\n",
       "      <th></th>\n",
       "      <th>Unnamed: 0</th>\n",
       "      <th>Price</th>\n",
       "      <th>Model Year</th>\n",
       "      <th>Mileage</th>\n",
       "      <th>Engine Capacity</th>\n",
       "    </tr>\n",
       "  </thead>\n",
       "  <tbody>\n",
       "    <tr>\n",
       "      <th>Unnamed: 0</th>\n",
       "      <td>1.000000</td>\n",
       "      <td>-0.012383</td>\n",
       "      <td>-0.032425</td>\n",
       "      <td>-0.009007</td>\n",
       "      <td>-0.011992</td>\n",
       "    </tr>\n",
       "    <tr>\n",
       "      <th>Price</th>\n",
       "      <td>-0.012383</td>\n",
       "      <td>1.000000</td>\n",
       "      <td>0.217494</td>\n",
       "      <td>-0.188658</td>\n",
       "      <td>0.645924</td>\n",
       "    </tr>\n",
       "    <tr>\n",
       "      <th>Model Year</th>\n",
       "      <td>-0.032425</td>\n",
       "      <td>0.217494</td>\n",
       "      <td>1.000000</td>\n",
       "      <td>-0.604310</td>\n",
       "      <td>-0.151290</td>\n",
       "    </tr>\n",
       "    <tr>\n",
       "      <th>Mileage</th>\n",
       "      <td>-0.009007</td>\n",
       "      <td>-0.188658</td>\n",
       "      <td>-0.604310</td>\n",
       "      <td>1.000000</td>\n",
       "      <td>0.098138</td>\n",
       "    </tr>\n",
       "    <tr>\n",
       "      <th>Engine Capacity</th>\n",
       "      <td>-0.011992</td>\n",
       "      <td>0.645924</td>\n",
       "      <td>-0.151290</td>\n",
       "      <td>0.098138</td>\n",
       "      <td>1.000000</td>\n",
       "    </tr>\n",
       "  </tbody>\n",
       "</table>\n",
       "</div>"
      ],
      "text/plain": [
       "                 Unnamed: 0     Price  Model Year   Mileage  Engine Capacity\n",
       "Unnamed: 0         1.000000 -0.012383   -0.032425 -0.009007        -0.011992\n",
       "Price             -0.012383  1.000000    0.217494 -0.188658         0.645924\n",
       "Model Year        -0.032425  0.217494    1.000000 -0.604310        -0.151290\n",
       "Mileage           -0.009007 -0.188658   -0.604310  1.000000         0.098138\n",
       "Engine Capacity   -0.011992  0.645924   -0.151290  0.098138         1.000000"
      ]
     },
     "execution_count": 12,
     "metadata": {},
     "output_type": "execute_result"
    }
   ],
   "source": [
    "df.corr()"
   ]
  },
  {
   "cell_type": "code",
   "execution_count": 13,
   "id": "90289c41-db26-4611-b013-1161dcd0a227",
   "metadata": {
    "tags": []
   },
   "outputs": [
    {
     "data": {
      "text/html": [
       "<div>\n",
       "<style scoped>\n",
       "    .dataframe tbody tr th:only-of-type {\n",
       "        vertical-align: middle;\n",
       "    }\n",
       "\n",
       "    .dataframe tbody tr th {\n",
       "        vertical-align: top;\n",
       "    }\n",
       "\n",
       "    .dataframe thead th {\n",
       "        text-align: right;\n",
       "    }\n",
       "</style>\n",
       "<table border=\"1\" class=\"dataframe\">\n",
       "  <thead>\n",
       "    <tr style=\"text-align: right;\">\n",
       "      <th></th>\n",
       "      <th>count</th>\n",
       "      <th>mean</th>\n",
       "      <th>std</th>\n",
       "      <th>min</th>\n",
       "      <th>25%</th>\n",
       "      <th>50%</th>\n",
       "      <th>75%</th>\n",
       "      <th>max</th>\n",
       "    </tr>\n",
       "  </thead>\n",
       "  <tbody>\n",
       "    <tr>\n",
       "      <th>Unnamed: 0</th>\n",
       "      <td>46022.0</td>\n",
       "      <td>2.301053e+04</td>\n",
       "      <td>1.328560e+04</td>\n",
       "      <td>0.0</td>\n",
       "      <td>11505.25</td>\n",
       "      <td>23010.5</td>\n",
       "      <td>34515.75</td>\n",
       "      <td>46022.0</td>\n",
       "    </tr>\n",
       "    <tr>\n",
       "      <th>Price</th>\n",
       "      <td>46022.0</td>\n",
       "      <td>2.014153e+06</td>\n",
       "      <td>2.939071e+06</td>\n",
       "      <td>111000.0</td>\n",
       "      <td>850000.00</td>\n",
       "      <td>1450000.0</td>\n",
       "      <td>2300000.00</td>\n",
       "      <td>77500000.0</td>\n",
       "    </tr>\n",
       "    <tr>\n",
       "      <th>Model Year</th>\n",
       "      <td>46022.0</td>\n",
       "      <td>2.011035e+03</td>\n",
       "      <td>6.399403e+00</td>\n",
       "      <td>1990.0</td>\n",
       "      <td>2007.00</td>\n",
       "      <td>2013.0</td>\n",
       "      <td>2016.00</td>\n",
       "      <td>2019.0</td>\n",
       "    </tr>\n",
       "    <tr>\n",
       "      <th>Mileage</th>\n",
       "      <td>46022.0</td>\n",
       "      <td>9.096513e+04</td>\n",
       "      <td>6.365666e+04</td>\n",
       "      <td>1.0</td>\n",
       "      <td>48899.50</td>\n",
       "      <td>80000.0</td>\n",
       "      <td>120000.00</td>\n",
       "      <td>999999.0</td>\n",
       "    </tr>\n",
       "    <tr>\n",
       "      <th>Engine Capacity</th>\n",
       "      <td>46022.0</td>\n",
       "      <td>1.313116e+03</td>\n",
       "      <td>6.146908e+02</td>\n",
       "      <td>16.0</td>\n",
       "      <td>1000.00</td>\n",
       "      <td>1300.0</td>\n",
       "      <td>1500.00</td>\n",
       "      <td>6600.0</td>\n",
       "    </tr>\n",
       "  </tbody>\n",
       "</table>\n",
       "</div>"
      ],
      "text/plain": [
       "                   count          mean           std       min        25%  \\\n",
       "Unnamed: 0       46022.0  2.301053e+04  1.328560e+04       0.0   11505.25   \n",
       "Price            46022.0  2.014153e+06  2.939071e+06  111000.0  850000.00   \n",
       "Model Year       46022.0  2.011035e+03  6.399403e+00    1990.0    2007.00   \n",
       "Mileage          46022.0  9.096513e+04  6.365666e+04       1.0   48899.50   \n",
       "Engine Capacity  46022.0  1.313116e+03  6.146908e+02      16.0    1000.00   \n",
       "\n",
       "                       50%         75%         max  \n",
       "Unnamed: 0         23010.5    34515.75     46022.0  \n",
       "Price            1450000.0  2300000.00  77500000.0  \n",
       "Model Year          2013.0     2016.00      2019.0  \n",
       "Mileage            80000.0   120000.00    999999.0  \n",
       "Engine Capacity     1300.0     1500.00      6600.0  "
      ]
     },
     "execution_count": 13,
     "metadata": {},
     "output_type": "execute_result"
    }
   ],
   "source": [
    "df.describe().T"
   ]
  },
  {
   "cell_type": "code",
   "execution_count": 14,
   "id": "1b5ce474-af7d-4eb3-aa30-82976479f8c3",
   "metadata": {
    "tags": []
   },
   "outputs": [
    {
     "name": "stdout",
     "output_type": "stream",
     "text": [
      "<class 'pandas.core.frame.DataFrame'>\n",
      "RangeIndex: 46022 entries, 0 to 46021\n",
      "Data columns (total 14 columns):\n",
      " #   Column               Non-Null Count  Dtype \n",
      "---  ------               --------------  ----- \n",
      " 0   Unnamed: 0           46022 non-null  int64 \n",
      " 1   Company Name         46022 non-null  object\n",
      " 2   Model Name           46022 non-null  object\n",
      " 3   Price                46022 non-null  int64 \n",
      " 4   Model Year           46022 non-null  int64 \n",
      " 5   Location             46022 non-null  object\n",
      " 6   Mileage              46022 non-null  int64 \n",
      " 7   Engine Type          46022 non-null  object\n",
      " 8   Engine Capacity      46022 non-null  int64 \n",
      " 9   Color                46022 non-null  object\n",
      " 10  Assembly             46022 non-null  object\n",
      " 11  Body Type            46022 non-null  object\n",
      " 12  Transmission Type    46022 non-null  object\n",
      " 13  Registration Status  46022 non-null  object\n",
      "dtypes: int64(5), object(9)\n",
      "memory usage: 4.9+ MB\n"
     ]
    }
   ],
   "source": [
    "df.info()"
   ]
  },
  {
   "cell_type": "code",
   "execution_count": 15,
   "id": "fb514574-5d95-447c-95d5-71fbb7093cc7",
   "metadata": {
    "tags": []
   },
   "outputs": [],
   "source": [
    "## Standart sapma ve diğer değerler birbirne kıyasla çok uçuk Normalizasyon uygulayacağım"
   ]
  },
  {
   "cell_type": "code",
   "execution_count": null,
   "id": "d31d6afd-b32f-4726-858b-61a92a2b267b",
   "metadata": {},
   "outputs": [],
   "source": []
  },
  {
   "cell_type": "code",
   "execution_count": 16,
   "id": "2fe377c8-2d16-4297-b9f4-d6747e1e15e3",
   "metadata": {
    "tags": []
   },
   "outputs": [],
   "source": [
    "df.drop(['Unnamed: 0','Company Name','Location','Color','Model Name','Body Type'],axis=1,inplace=True)"
   ]
  },
  {
   "cell_type": "code",
   "execution_count": 17,
   "id": "0a8f953d-dcd3-4da0-a250-c0b0d54b5a9d",
   "metadata": {
    "tags": []
   },
   "outputs": [
    {
     "data": {
      "text/html": [
       "<div>\n",
       "<style scoped>\n",
       "    .dataframe tbody tr th:only-of-type {\n",
       "        vertical-align: middle;\n",
       "    }\n",
       "\n",
       "    .dataframe tbody tr th {\n",
       "        vertical-align: top;\n",
       "    }\n",
       "\n",
       "    .dataframe thead th {\n",
       "        text-align: right;\n",
       "    }\n",
       "</style>\n",
       "<table border=\"1\" class=\"dataframe\">\n",
       "  <thead>\n",
       "    <tr style=\"text-align: right;\">\n",
       "      <th></th>\n",
       "      <th>Price</th>\n",
       "      <th>Model Year</th>\n",
       "      <th>Mileage</th>\n",
       "      <th>Engine Type</th>\n",
       "      <th>Engine Capacity</th>\n",
       "      <th>Assembly</th>\n",
       "      <th>Transmission Type</th>\n",
       "      <th>Registration Status</th>\n",
       "    </tr>\n",
       "  </thead>\n",
       "  <tbody>\n",
       "    <tr>\n",
       "      <th>0</th>\n",
       "      <td>2385000</td>\n",
       "      <td>2017</td>\n",
       "      <td>9869</td>\n",
       "      <td>Petrol</td>\n",
       "      <td>1000</td>\n",
       "      <td>Imported</td>\n",
       "      <td>Automatic</td>\n",
       "      <td>Un-Registered</td>\n",
       "    </tr>\n",
       "    <tr>\n",
       "      <th>1</th>\n",
       "      <td>111000</td>\n",
       "      <td>2019</td>\n",
       "      <td>11111</td>\n",
       "      <td>Petrol</td>\n",
       "      <td>1300</td>\n",
       "      <td>Local</td>\n",
       "      <td>Automatic</td>\n",
       "      <td>Registered</td>\n",
       "    </tr>\n",
       "    <tr>\n",
       "      <th>2</th>\n",
       "      <td>1530000</td>\n",
       "      <td>2019</td>\n",
       "      <td>17500</td>\n",
       "      <td>Petrol</td>\n",
       "      <td>660</td>\n",
       "      <td>Local</td>\n",
       "      <td>Automatic</td>\n",
       "      <td>Un-Registered</td>\n",
       "    </tr>\n",
       "    <tr>\n",
       "      <th>3</th>\n",
       "      <td>1650000</td>\n",
       "      <td>2019</td>\n",
       "      <td>9600</td>\n",
       "      <td>Petrol</td>\n",
       "      <td>660</td>\n",
       "      <td>Local</td>\n",
       "      <td>Manual</td>\n",
       "      <td>Registered</td>\n",
       "    </tr>\n",
       "    <tr>\n",
       "      <th>4</th>\n",
       "      <td>1435000</td>\n",
       "      <td>2010</td>\n",
       "      <td>120000</td>\n",
       "      <td>Petrol</td>\n",
       "      <td>1300</td>\n",
       "      <td>Local</td>\n",
       "      <td>Manual</td>\n",
       "      <td>Registered</td>\n",
       "    </tr>\n",
       "  </tbody>\n",
       "</table>\n",
       "</div>"
      ],
      "text/plain": [
       "     Price  Model Year  Mileage Engine Type  Engine Capacity  Assembly  \\\n",
       "0  2385000        2017     9869      Petrol             1000  Imported   \n",
       "1   111000        2019    11111      Petrol             1300     Local   \n",
       "2  1530000        2019    17500      Petrol              660     Local   \n",
       "3  1650000        2019     9600      Petrol              660     Local   \n",
       "4  1435000        2010   120000      Petrol             1300     Local   \n",
       "\n",
       "  Transmission Type Registration Status  \n",
       "0         Automatic       Un-Registered  \n",
       "1         Automatic          Registered  \n",
       "2         Automatic       Un-Registered  \n",
       "3            Manual          Registered  \n",
       "4            Manual          Registered  "
      ]
     },
     "execution_count": 17,
     "metadata": {},
     "output_type": "execute_result"
    }
   ],
   "source": [
    "df.head()"
   ]
  },
  {
   "cell_type": "code",
   "execution_count": null,
   "id": "5c1ed2cc-7b4c-4b0c-8ff6-d266b2660f7a",
   "metadata": {
    "tags": []
   },
   "outputs": [],
   "source": []
  },
  {
   "cell_type": "code",
   "execution_count": null,
   "id": "a3175b88-b01b-4472-93f0-14307f13ba77",
   "metadata": {
    "tags": []
   },
   "outputs": [],
   "source": []
  },
  {
   "cell_type": "code",
   "execution_count": 18,
   "id": "685b3b48-252d-4760-ba8e-a7c9920f37ba",
   "metadata": {
    "tags": []
   },
   "outputs": [],
   "source": [
    "entype = df['Engine Type']"
   ]
  },
  {
   "cell_type": "code",
   "execution_count": 19,
   "id": "c02fafb3-b6bd-4cff-9036-f21069a3a809",
   "metadata": {
    "tags": []
   },
   "outputs": [
    {
     "data": {
      "text/plain": [
       "Petrol    43590\n",
       "Hybrid     1439\n",
       "Diesel      993\n",
       "Name: Engine Type, dtype: int64"
      ]
     },
     "execution_count": 19,
     "metadata": {},
     "output_type": "execute_result"
    }
   ],
   "source": [
    "entype.value_counts()"
   ]
  },
  {
   "cell_type": "code",
   "execution_count": 20,
   "id": "c009f62f-f8de-476f-a563-22f5f772f52a",
   "metadata": {
    "tags": []
   },
   "outputs": [
    {
     "data": {
      "text/plain": [
       "'Petrol'"
      ]
     },
     "execution_count": 20,
     "metadata": {},
     "output_type": "execute_result"
    }
   ],
   "source": [
    "entype[6]"
   ]
  },
  {
   "cell_type": "code",
   "execution_count": 21,
   "id": "23778dc9-cb6d-4b66-bf47-139518e50e7e",
   "metadata": {
    "tags": []
   },
   "outputs": [],
   "source": [
    "def arrange_petrol(dataframe):\n",
    "    for i in range(len(dataframe)):\n",
    "        if dataframe[i] =='Petrol':\n",
    "            dataframe[i] = 0\n",
    "        elif dataframe[i] =='Hybrid':\n",
    "            dataframe[i] = 1\n",
    "        else:\n",
    "            dataframe[i] = 2\n",
    "            \n",
    "    return dataframe"
   ]
  },
  {
   "cell_type": "code",
   "execution_count": 22,
   "id": "ef58ec5c-670d-48ff-8008-996ac327b6a2",
   "metadata": {
    "tags": []
   },
   "outputs": [
    {
     "name": "stderr",
     "output_type": "stream",
     "text": [
      "/var/folders/gf/f54qhm4d7mb1zzqch8zq5q8w0000gn/T/ipykernel_36118/1910819912.py:4: SettingWithCopyWarning: \n",
      "A value is trying to be set on a copy of a slice from a DataFrame\n",
      "\n",
      "See the caveats in the documentation: https://pandas.pydata.org/pandas-docs/stable/user_guide/indexing.html#returning-a-view-versus-a-copy\n",
      "  dataframe[i] = 0\n",
      "/var/folders/gf/f54qhm4d7mb1zzqch8zq5q8w0000gn/T/ipykernel_36118/1910819912.py:8: SettingWithCopyWarning: \n",
      "A value is trying to be set on a copy of a slice from a DataFrame\n",
      "\n",
      "See the caveats in the documentation: https://pandas.pydata.org/pandas-docs/stable/user_guide/indexing.html#returning-a-view-versus-a-copy\n",
      "  dataframe[i] = 2\n",
      "/var/folders/gf/f54qhm4d7mb1zzqch8zq5q8w0000gn/T/ipykernel_36118/1910819912.py:6: SettingWithCopyWarning: \n",
      "A value is trying to be set on a copy of a slice from a DataFrame\n",
      "\n",
      "See the caveats in the documentation: https://pandas.pydata.org/pandas-docs/stable/user_guide/indexing.html#returning-a-view-versus-a-copy\n",
      "  dataframe[i] = 1\n"
     ]
    }
   ],
   "source": [
    "adjusted_engine=arrange_petrol(entype)"
   ]
  },
  {
   "cell_type": "code",
   "execution_count": 23,
   "id": "943fc7d2-6ac9-4253-89e2-d94802a7190d",
   "metadata": {
    "tags": []
   },
   "outputs": [
    {
     "data": {
      "text/plain": [
       "0    43590\n",
       "1     1439\n",
       "2      993\n",
       "Name: Engine Type, dtype: int64"
      ]
     },
     "execution_count": 23,
     "metadata": {},
     "output_type": "execute_result"
    }
   ],
   "source": [
    "adjusted_engine.value_counts()"
   ]
  },
  {
   "cell_type": "code",
   "execution_count": 24,
   "id": "a303ef12-257c-4f39-a406-dc87052821fd",
   "metadata": {
    "tags": []
   },
   "outputs": [
    {
     "data": {
      "text/plain": [
       "0"
      ]
     },
     "execution_count": 24,
     "metadata": {},
     "output_type": "execute_result"
    }
   ],
   "source": [
    "entype[5000]"
   ]
  },
  {
   "cell_type": "code",
   "execution_count": 25,
   "id": "eb601fee-5fb3-4269-b7a7-bf5e9f61a7b4",
   "metadata": {
    "tags": []
   },
   "outputs": [
    {
     "data": {
      "text/plain": [
       "0    0\n",
       "1    0\n",
       "2    0\n",
       "3    0\n",
       "4    0\n",
       "Name: Engine Type, dtype: object"
      ]
     },
     "execution_count": 25,
     "metadata": {},
     "output_type": "execute_result"
    }
   ],
   "source": [
    "adjusted_engine.head()"
   ]
  },
  {
   "cell_type": "code",
   "execution_count": 26,
   "id": "359b34d3-69c3-48e8-b255-1f509a90862b",
   "metadata": {
    "tags": []
   },
   "outputs": [],
   "source": [
    "df['EngineT'] = adjusted_engine"
   ]
  },
  {
   "cell_type": "code",
   "execution_count": 27,
   "id": "7cd2031e-8678-43cf-8aa9-db9e92d30727",
   "metadata": {
    "tags": []
   },
   "outputs": [
    {
     "data": {
      "text/html": [
       "<div>\n",
       "<style scoped>\n",
       "    .dataframe tbody tr th:only-of-type {\n",
       "        vertical-align: middle;\n",
       "    }\n",
       "\n",
       "    .dataframe tbody tr th {\n",
       "        vertical-align: top;\n",
       "    }\n",
       "\n",
       "    .dataframe thead th {\n",
       "        text-align: right;\n",
       "    }\n",
       "</style>\n",
       "<table border=\"1\" class=\"dataframe\">\n",
       "  <thead>\n",
       "    <tr style=\"text-align: right;\">\n",
       "      <th></th>\n",
       "      <th>Price</th>\n",
       "      <th>Model Year</th>\n",
       "      <th>Mileage</th>\n",
       "      <th>Engine Type</th>\n",
       "      <th>Engine Capacity</th>\n",
       "      <th>Assembly</th>\n",
       "      <th>Transmission Type</th>\n",
       "      <th>Registration Status</th>\n",
       "      <th>EngineT</th>\n",
       "    </tr>\n",
       "  </thead>\n",
       "  <tbody>\n",
       "    <tr>\n",
       "      <th>0</th>\n",
       "      <td>2385000</td>\n",
       "      <td>2017</td>\n",
       "      <td>9869</td>\n",
       "      <td>0</td>\n",
       "      <td>1000</td>\n",
       "      <td>Imported</td>\n",
       "      <td>Automatic</td>\n",
       "      <td>Un-Registered</td>\n",
       "      <td>0</td>\n",
       "    </tr>\n",
       "    <tr>\n",
       "      <th>1</th>\n",
       "      <td>111000</td>\n",
       "      <td>2019</td>\n",
       "      <td>11111</td>\n",
       "      <td>0</td>\n",
       "      <td>1300</td>\n",
       "      <td>Local</td>\n",
       "      <td>Automatic</td>\n",
       "      <td>Registered</td>\n",
       "      <td>0</td>\n",
       "    </tr>\n",
       "    <tr>\n",
       "      <th>2</th>\n",
       "      <td>1530000</td>\n",
       "      <td>2019</td>\n",
       "      <td>17500</td>\n",
       "      <td>0</td>\n",
       "      <td>660</td>\n",
       "      <td>Local</td>\n",
       "      <td>Automatic</td>\n",
       "      <td>Un-Registered</td>\n",
       "      <td>0</td>\n",
       "    </tr>\n",
       "    <tr>\n",
       "      <th>3</th>\n",
       "      <td>1650000</td>\n",
       "      <td>2019</td>\n",
       "      <td>9600</td>\n",
       "      <td>0</td>\n",
       "      <td>660</td>\n",
       "      <td>Local</td>\n",
       "      <td>Manual</td>\n",
       "      <td>Registered</td>\n",
       "      <td>0</td>\n",
       "    </tr>\n",
       "    <tr>\n",
       "      <th>4</th>\n",
       "      <td>1435000</td>\n",
       "      <td>2010</td>\n",
       "      <td>120000</td>\n",
       "      <td>0</td>\n",
       "      <td>1300</td>\n",
       "      <td>Local</td>\n",
       "      <td>Manual</td>\n",
       "      <td>Registered</td>\n",
       "      <td>0</td>\n",
       "    </tr>\n",
       "  </tbody>\n",
       "</table>\n",
       "</div>"
      ],
      "text/plain": [
       "     Price  Model Year  Mileage Engine Type  Engine Capacity  Assembly  \\\n",
       "0  2385000        2017     9869           0             1000  Imported   \n",
       "1   111000        2019    11111           0             1300     Local   \n",
       "2  1530000        2019    17500           0              660     Local   \n",
       "3  1650000        2019     9600           0              660     Local   \n",
       "4  1435000        2010   120000           0             1300     Local   \n",
       "\n",
       "  Transmission Type Registration Status EngineT  \n",
       "0         Automatic       Un-Registered       0  \n",
       "1         Automatic          Registered       0  \n",
       "2         Automatic       Un-Registered       0  \n",
       "3            Manual          Registered       0  \n",
       "4            Manual          Registered       0  "
      ]
     },
     "execution_count": 27,
     "metadata": {},
     "output_type": "execute_result"
    }
   ],
   "source": [
    "df.head()"
   ]
  },
  {
   "cell_type": "code",
   "execution_count": 28,
   "id": "a45c0781-52ba-4454-be93-b04a7e5c2073",
   "metadata": {
    "tags": []
   },
   "outputs": [
    {
     "data": {
      "text/html": [
       "<div>\n",
       "<style scoped>\n",
       "    .dataframe tbody tr th:only-of-type {\n",
       "        vertical-align: middle;\n",
       "    }\n",
       "\n",
       "    .dataframe tbody tr th {\n",
       "        vertical-align: top;\n",
       "    }\n",
       "\n",
       "    .dataframe thead th {\n",
       "        text-align: right;\n",
       "    }\n",
       "</style>\n",
       "<table border=\"1\" class=\"dataframe\">\n",
       "  <thead>\n",
       "    <tr style=\"text-align: right;\">\n",
       "      <th></th>\n",
       "      <th>Price</th>\n",
       "      <th>Model Year</th>\n",
       "      <th>Mileage</th>\n",
       "      <th>Engine Type</th>\n",
       "      <th>Engine Capacity</th>\n",
       "      <th>Assembly</th>\n",
       "      <th>Transmission Type</th>\n",
       "      <th>Registration Status</th>\n",
       "      <th>EngineT</th>\n",
       "    </tr>\n",
       "  </thead>\n",
       "  <tbody>\n",
       "    <tr>\n",
       "      <th>0</th>\n",
       "      <td>2385000</td>\n",
       "      <td>2017</td>\n",
       "      <td>9869</td>\n",
       "      <td>0</td>\n",
       "      <td>1000</td>\n",
       "      <td>Imported</td>\n",
       "      <td>Automatic</td>\n",
       "      <td>Un-Registered</td>\n",
       "      <td>0</td>\n",
       "    </tr>\n",
       "    <tr>\n",
       "      <th>1</th>\n",
       "      <td>111000</td>\n",
       "      <td>2019</td>\n",
       "      <td>11111</td>\n",
       "      <td>0</td>\n",
       "      <td>1300</td>\n",
       "      <td>Local</td>\n",
       "      <td>Automatic</td>\n",
       "      <td>Registered</td>\n",
       "      <td>0</td>\n",
       "    </tr>\n",
       "    <tr>\n",
       "      <th>2</th>\n",
       "      <td>1530000</td>\n",
       "      <td>2019</td>\n",
       "      <td>17500</td>\n",
       "      <td>0</td>\n",
       "      <td>660</td>\n",
       "      <td>Local</td>\n",
       "      <td>Automatic</td>\n",
       "      <td>Un-Registered</td>\n",
       "      <td>0</td>\n",
       "    </tr>\n",
       "    <tr>\n",
       "      <th>3</th>\n",
       "      <td>1650000</td>\n",
       "      <td>2019</td>\n",
       "      <td>9600</td>\n",
       "      <td>0</td>\n",
       "      <td>660</td>\n",
       "      <td>Local</td>\n",
       "      <td>Manual</td>\n",
       "      <td>Registered</td>\n",
       "      <td>0</td>\n",
       "    </tr>\n",
       "    <tr>\n",
       "      <th>4</th>\n",
       "      <td>1435000</td>\n",
       "      <td>2010</td>\n",
       "      <td>120000</td>\n",
       "      <td>0</td>\n",
       "      <td>1300</td>\n",
       "      <td>Local</td>\n",
       "      <td>Manual</td>\n",
       "      <td>Registered</td>\n",
       "      <td>0</td>\n",
       "    </tr>\n",
       "  </tbody>\n",
       "</table>\n",
       "</div>"
      ],
      "text/plain": [
       "     Price  Model Year  Mileage Engine Type  Engine Capacity  Assembly  \\\n",
       "0  2385000        2017     9869           0             1000  Imported   \n",
       "1   111000        2019    11111           0             1300     Local   \n",
       "2  1530000        2019    17500           0              660     Local   \n",
       "3  1650000        2019     9600           0              660     Local   \n",
       "4  1435000        2010   120000           0             1300     Local   \n",
       "\n",
       "  Transmission Type Registration Status EngineT  \n",
       "0         Automatic       Un-Registered       0  \n",
       "1         Automatic          Registered       0  \n",
       "2         Automatic       Un-Registered       0  \n",
       "3            Manual          Registered       0  \n",
       "4            Manual          Registered       0  "
      ]
     },
     "execution_count": 28,
     "metadata": {},
     "output_type": "execute_result"
    }
   ],
   "source": [
    "df.head()"
   ]
  },
  {
   "cell_type": "code",
   "execution_count": 29,
   "id": "d6007d9e-e7b7-4115-add6-1f5b463cf801",
   "metadata": {
    "tags": []
   },
   "outputs": [
    {
     "data": {
      "text/html": [
       "<div>\n",
       "<style scoped>\n",
       "    .dataframe tbody tr th:only-of-type {\n",
       "        vertical-align: middle;\n",
       "    }\n",
       "\n",
       "    .dataframe tbody tr th {\n",
       "        vertical-align: top;\n",
       "    }\n",
       "\n",
       "    .dataframe thead th {\n",
       "        text-align: right;\n",
       "    }\n",
       "</style>\n",
       "<table border=\"1\" class=\"dataframe\">\n",
       "  <thead>\n",
       "    <tr style=\"text-align: right;\">\n",
       "      <th></th>\n",
       "      <th>Price</th>\n",
       "      <th>Model Year</th>\n",
       "      <th>Mileage</th>\n",
       "      <th>Engine Type</th>\n",
       "      <th>Engine Capacity</th>\n",
       "      <th>Assembly</th>\n",
       "      <th>Transmission Type</th>\n",
       "      <th>Registration Status</th>\n",
       "      <th>EngineT</th>\n",
       "    </tr>\n",
       "  </thead>\n",
       "  <tbody>\n",
       "    <tr>\n",
       "      <th>8</th>\n",
       "      <td>2650000</td>\n",
       "      <td>1998</td>\n",
       "      <td>110000</td>\n",
       "      <td>2</td>\n",
       "      <td>3000</td>\n",
       "      <td>Imported</td>\n",
       "      <td>Automatic</td>\n",
       "      <td>Registered</td>\n",
       "      <td>2</td>\n",
       "    </tr>\n",
       "    <tr>\n",
       "      <th>17</th>\n",
       "      <td>8650000</td>\n",
       "      <td>2018</td>\n",
       "      <td>35000</td>\n",
       "      <td>2</td>\n",
       "      <td>2800</td>\n",
       "      <td>Local</td>\n",
       "      <td>Automatic</td>\n",
       "      <td>Registered</td>\n",
       "      <td>2</td>\n",
       "    </tr>\n",
       "    <tr>\n",
       "      <th>97</th>\n",
       "      <td>2700000</td>\n",
       "      <td>1994</td>\n",
       "      <td>117000</td>\n",
       "      <td>2</td>\n",
       "      <td>4200</td>\n",
       "      <td>Imported</td>\n",
       "      <td>Automatic</td>\n",
       "      <td>Registered</td>\n",
       "      <td>2</td>\n",
       "    </tr>\n",
       "    <tr>\n",
       "      <th>150</th>\n",
       "      <td>1020000</td>\n",
       "      <td>2003</td>\n",
       "      <td>100000</td>\n",
       "      <td>2</td>\n",
       "      <td>2000</td>\n",
       "      <td>Local</td>\n",
       "      <td>Manual</td>\n",
       "      <td>Registered</td>\n",
       "      <td>2</td>\n",
       "    </tr>\n",
       "    <tr>\n",
       "      <th>280</th>\n",
       "      <td>4500000</td>\n",
       "      <td>2001</td>\n",
       "      <td>117000</td>\n",
       "      <td>2</td>\n",
       "      <td>4164</td>\n",
       "      <td>Imported</td>\n",
       "      <td>Automatic</td>\n",
       "      <td>Registered</td>\n",
       "      <td>2</td>\n",
       "    </tr>\n",
       "    <tr>\n",
       "      <th>...</th>\n",
       "      <td>...</td>\n",
       "      <td>...</td>\n",
       "      <td>...</td>\n",
       "      <td>...</td>\n",
       "      <td>...</td>\n",
       "      <td>...</td>\n",
       "      <td>...</td>\n",
       "      <td>...</td>\n",
       "      <td>...</td>\n",
       "    </tr>\n",
       "    <tr>\n",
       "      <th>45749</th>\n",
       "      <td>1200000</td>\n",
       "      <td>2002</td>\n",
       "      <td>100000</td>\n",
       "      <td>2</td>\n",
       "      <td>2000</td>\n",
       "      <td>Local</td>\n",
       "      <td>Manual</td>\n",
       "      <td>Registered</td>\n",
       "      <td>2</td>\n",
       "    </tr>\n",
       "    <tr>\n",
       "      <th>45842</th>\n",
       "      <td>1050000</td>\n",
       "      <td>2007</td>\n",
       "      <td>80000</td>\n",
       "      <td>2</td>\n",
       "      <td>2000</td>\n",
       "      <td>Local</td>\n",
       "      <td>Manual</td>\n",
       "      <td>Registered</td>\n",
       "      <td>2</td>\n",
       "    </tr>\n",
       "    <tr>\n",
       "      <th>45931</th>\n",
       "      <td>1150000</td>\n",
       "      <td>2009</td>\n",
       "      <td>133455</td>\n",
       "      <td>2</td>\n",
       "      <td>2000</td>\n",
       "      <td>Local</td>\n",
       "      <td>Automatic</td>\n",
       "      <td>Registered</td>\n",
       "      <td>2</td>\n",
       "    </tr>\n",
       "    <tr>\n",
       "      <th>45944</th>\n",
       "      <td>1350000</td>\n",
       "      <td>1993</td>\n",
       "      <td>252000</td>\n",
       "      <td>2</td>\n",
       "      <td>3000</td>\n",
       "      <td>Imported</td>\n",
       "      <td>Manual</td>\n",
       "      <td>Registered</td>\n",
       "      <td>2</td>\n",
       "    </tr>\n",
       "    <tr>\n",
       "      <th>46001</th>\n",
       "      <td>1375000</td>\n",
       "      <td>1996</td>\n",
       "      <td>150000</td>\n",
       "      <td>2</td>\n",
       "      <td>2800</td>\n",
       "      <td>Imported</td>\n",
       "      <td>Automatic</td>\n",
       "      <td>Registered</td>\n",
       "      <td>2</td>\n",
       "    </tr>\n",
       "  </tbody>\n",
       "</table>\n",
       "<p>993 rows × 9 columns</p>\n",
       "</div>"
      ],
      "text/plain": [
       "         Price  Model Year  Mileage Engine Type  Engine Capacity  Assembly  \\\n",
       "8      2650000        1998   110000           2             3000  Imported   \n",
       "17     8650000        2018    35000           2             2800     Local   \n",
       "97     2700000        1994   117000           2             4200  Imported   \n",
       "150    1020000        2003   100000           2             2000     Local   \n",
       "280    4500000        2001   117000           2             4164  Imported   \n",
       "...        ...         ...      ...         ...              ...       ...   \n",
       "45749  1200000        2002   100000           2             2000     Local   \n",
       "45842  1050000        2007    80000           2             2000     Local   \n",
       "45931  1150000        2009   133455           2             2000     Local   \n",
       "45944  1350000        1993   252000           2             3000  Imported   \n",
       "46001  1375000        1996   150000           2             2800  Imported   \n",
       "\n",
       "      Transmission Type Registration Status EngineT  \n",
       "8             Automatic          Registered       2  \n",
       "17            Automatic          Registered       2  \n",
       "97            Automatic          Registered       2  \n",
       "150              Manual          Registered       2  \n",
       "280           Automatic          Registered       2  \n",
       "...                 ...                 ...     ...  \n",
       "45749            Manual          Registered       2  \n",
       "45842            Manual          Registered       2  \n",
       "45931         Automatic          Registered       2  \n",
       "45944            Manual          Registered       2  \n",
       "46001         Automatic          Registered       2  \n",
       "\n",
       "[993 rows x 9 columns]"
      ]
     },
     "execution_count": 29,
     "metadata": {},
     "output_type": "execute_result"
    }
   ],
   "source": [
    "df[df['EngineT']==2]"
   ]
  },
  {
   "cell_type": "code",
   "execution_count": 30,
   "id": "59b36684-7735-4af7-827b-af644dbb4957",
   "metadata": {
    "tags": []
   },
   "outputs": [],
   "source": [
    "df.drop(['Engine Type'],axis=1,inplace=True)"
   ]
  },
  {
   "cell_type": "code",
   "execution_count": 31,
   "id": "373bc595-7437-43e7-9a6d-01a579dcbff6",
   "metadata": {
    "tags": []
   },
   "outputs": [],
   "source": [
    "df['Assembly'] = (df['Assembly'] =='Local').astype(int)\n",
    "df['Registration Status'] = (df['Registration Status'] =='Manual').astype(int)\n",
    "df['Transmission Type'] = (df['Transmission Type'] =='Registered').astype(int)"
   ]
  },
  {
   "cell_type": "code",
   "execution_count": 32,
   "id": "fe19637f-bff3-4fd5-ad7d-f9df1b63daf3",
   "metadata": {
    "tags": []
   },
   "outputs": [
    {
     "data": {
      "text/html": [
       "<div>\n",
       "<style scoped>\n",
       "    .dataframe tbody tr th:only-of-type {\n",
       "        vertical-align: middle;\n",
       "    }\n",
       "\n",
       "    .dataframe tbody tr th {\n",
       "        vertical-align: top;\n",
       "    }\n",
       "\n",
       "    .dataframe thead th {\n",
       "        text-align: right;\n",
       "    }\n",
       "</style>\n",
       "<table border=\"1\" class=\"dataframe\">\n",
       "  <thead>\n",
       "    <tr style=\"text-align: right;\">\n",
       "      <th></th>\n",
       "      <th>Price</th>\n",
       "      <th>Model Year</th>\n",
       "      <th>Mileage</th>\n",
       "      <th>Engine Capacity</th>\n",
       "      <th>Assembly</th>\n",
       "      <th>Transmission Type</th>\n",
       "      <th>Registration Status</th>\n",
       "      <th>EngineT</th>\n",
       "    </tr>\n",
       "  </thead>\n",
       "  <tbody>\n",
       "    <tr>\n",
       "      <th>0</th>\n",
       "      <td>2385000</td>\n",
       "      <td>2017</td>\n",
       "      <td>9869</td>\n",
       "      <td>1000</td>\n",
       "      <td>0</td>\n",
       "      <td>0</td>\n",
       "      <td>0</td>\n",
       "      <td>0</td>\n",
       "    </tr>\n",
       "    <tr>\n",
       "      <th>1</th>\n",
       "      <td>111000</td>\n",
       "      <td>2019</td>\n",
       "      <td>11111</td>\n",
       "      <td>1300</td>\n",
       "      <td>1</td>\n",
       "      <td>0</td>\n",
       "      <td>0</td>\n",
       "      <td>0</td>\n",
       "    </tr>\n",
       "    <tr>\n",
       "      <th>2</th>\n",
       "      <td>1530000</td>\n",
       "      <td>2019</td>\n",
       "      <td>17500</td>\n",
       "      <td>660</td>\n",
       "      <td>1</td>\n",
       "      <td>0</td>\n",
       "      <td>0</td>\n",
       "      <td>0</td>\n",
       "    </tr>\n",
       "    <tr>\n",
       "      <th>3</th>\n",
       "      <td>1650000</td>\n",
       "      <td>2019</td>\n",
       "      <td>9600</td>\n",
       "      <td>660</td>\n",
       "      <td>1</td>\n",
       "      <td>0</td>\n",
       "      <td>0</td>\n",
       "      <td>0</td>\n",
       "    </tr>\n",
       "    <tr>\n",
       "      <th>4</th>\n",
       "      <td>1435000</td>\n",
       "      <td>2010</td>\n",
       "      <td>120000</td>\n",
       "      <td>1300</td>\n",
       "      <td>1</td>\n",
       "      <td>0</td>\n",
       "      <td>0</td>\n",
       "      <td>0</td>\n",
       "    </tr>\n",
       "  </tbody>\n",
       "</table>\n",
       "</div>"
      ],
      "text/plain": [
       "     Price  Model Year  Mileage  Engine Capacity  Assembly  Transmission Type  \\\n",
       "0  2385000        2017     9869             1000         0                  0   \n",
       "1   111000        2019    11111             1300         1                  0   \n",
       "2  1530000        2019    17500              660         1                  0   \n",
       "3  1650000        2019     9600              660         1                  0   \n",
       "4  1435000        2010   120000             1300         1                  0   \n",
       "\n",
       "   Registration Status EngineT  \n",
       "0                    0       0  \n",
       "1                    0       0  \n",
       "2                    0       0  \n",
       "3                    0       0  \n",
       "4                    0       0  "
      ]
     },
     "execution_count": 32,
     "metadata": {},
     "output_type": "execute_result"
    }
   ],
   "source": [
    "df.head()"
   ]
  },
  {
   "cell_type": "code",
   "execution_count": 33,
   "id": "975a0e86-cae2-4ef2-8c15-7b97ee2f6f2a",
   "metadata": {
    "tags": []
   },
   "outputs": [
    {
     "data": {
      "text/plain": [
       "30"
      ]
     },
     "execution_count": 33,
     "metadata": {},
     "output_type": "execute_result"
    }
   ],
   "source": [
    "df['Model Year'].nunique()"
   ]
  },
  {
   "cell_type": "code",
   "execution_count": 34,
   "id": "35a84340-314b-48ef-bac1-5d588501d241",
   "metadata": {
    "tags": []
   },
   "outputs": [
    {
     "data": {
      "text/plain": [
       "1990"
      ]
     },
     "execution_count": 34,
     "metadata": {},
     "output_type": "execute_result"
    }
   ],
   "source": [
    "df['Model Year'].min()"
   ]
  },
  {
   "cell_type": "code",
   "execution_count": 35,
   "id": "02d077f8-d1f7-4acf-a609-655754642705",
   "metadata": {
    "tags": []
   },
   "outputs": [],
   "source": [
    "df['Model Year'] = df['Model Year'] - 1989"
   ]
  },
  {
   "cell_type": "code",
   "execution_count": 36,
   "id": "bf10d05e-1947-4e23-946f-bd004e663f30",
   "metadata": {
    "tags": []
   },
   "outputs": [
    {
     "data": {
      "text/plain": [
       "1"
      ]
     },
     "execution_count": 36,
     "metadata": {},
     "output_type": "execute_result"
    }
   ],
   "source": [
    "df['Model Year'].max()\n",
    "df['Model Year'].min()"
   ]
  },
  {
   "cell_type": "code",
   "execution_count": 37,
   "id": "8b534c8a-15ab-4f3b-a70a-e660a192aed2",
   "metadata": {
    "tags": []
   },
   "outputs": [],
   "source": [
    "### Tamam şimdi Görseleştiricem"
   ]
  },
  {
   "cell_type": "code",
   "execution_count": 38,
   "id": "d97d8830-0b92-4f13-8911-cb0a5d2403e2",
   "metadata": {
    "tags": []
   },
   "outputs": [
    {
     "data": {
      "text/plain": [
       "Index(['Model Year', 'Mileage', 'Engine Capacity', 'Assembly',\n",
       "       'Transmission Type', 'Registration Status', 'EngineT'],\n",
       "      dtype='object')"
      ]
     },
     "execution_count": 38,
     "metadata": {},
     "output_type": "execute_result"
    }
   ],
   "source": [
    "df.columns[1:]"
   ]
  },
  {
   "cell_type": "code",
   "execution_count": 39,
   "id": "4a5f712d-54a1-49e6-9597-569b7bf8a475",
   "metadata": {
    "tags": []
   },
   "outputs": [
    {
     "name": "stderr",
     "output_type": "stream",
     "text": [
      "No artists with labels found to put in legend.  Note that artists whose label start with an underscore are ignored when legend() is called with no argument.\n"
     ]
    },
    {
     "data": {
      "image/png": "[encoded data removed]",
      "text/plain": [
       "<Figure size 640x480 with 1 Axes>"
      ]
     },
     "metadata": {},
     "output_type": "display_data"
    },
    {
     "name": "stderr",
     "output_type": "stream",
     "text": [
      "No artists with labels found to put in legend.  Note that artists whose label start with an underscore are ignored when legend() is called with no argument.\n"
     ]
    },
    {
     "data": {
      "image/png": "[encoded data removed]",
      "text/plain": [
       "<Figure size 640x480 with 1 Axes>"
      ]
     },
     "metadata": {},
     "output_type": "display_data"
    },
    {
     "name": "stderr",
     "output_type": "stream",
     "text": [
      "No artists with labels found to put in legend.  Note that artists whose label start with an underscore are ignored when legend() is called with no argument.\n"
     ]
    },
    {
     "data": {
      "image/png": "[encoded data removed]",
      "text/plain": [
       "<Figure size 640x480 with 1 Axes>"
      ]
     },
     "metadata": {},
     "output_type": "display_data"
    },
    {
     "name": "stderr",
     "output_type": "stream",
     "text": [
      "No artists with labels found to put in legend.  Note that artists whose label start with an underscore are ignored when legend() is called with no argument.\n"
     ]
    },
    {
     "data": {
      "image/png": "[encoded data removed]",
      "text/plain": [
       "<Figure size 640x480 with 1 Axes>"
      ]
     },
     "metadata": {},
     "output_type": "display_data"
    },
    {
     "name": "stderr",
     "output_type": "stream",
     "text": [
      "No artists with labels found to put in legend.  Note that artists whose label start with an underscore are ignored when legend() is called with no argument.\n"
     ]
    },
    {
     "data": {
      "image/png": "[encoded data removed]",
      "text/plain": [
       "<Figure size 640x480 with 1 Axes>"
      ]
     },
     "metadata": {},
     "output_type": "display_data"
    },
    {
     "name": "stderr",
     "output_type": "stream",
     "text": [
      "No artists with labels found to put in legend.  Note that artists whose label start with an underscore are ignored when legend() is called with no argument.\n"
     ]
    },
    {
     "data": {
      "image/png": "[encoded data removed]",
      "text/plain": [
       "<Figure size 640x480 with 1 Axes>"
      ]
     },
     "metadata": {},
     "output_type": "display_data"
    },
    {
     "name": "stderr",
     "output_type": "stream",
     "text": [
      "No artists with labels found to put in legend.  Note that artists whose label start with an underscore are ignored when legend() is called with no argument.\n"
     ]
    },
    {
     "data": {
      "image/png": "[encoded data removed]",
      "text/plain": [
       "<Figure size 640x480 with 1 Axes>"
      ]
     },
     "metadata": {},
     "output_type": "display_data"
    }
   ],
   "source": [
    "for label in df.columns[1:]:\n",
    "    plt.scatter(df[label],df['Price'])\n",
    "    plt.title(label)\n",
    "    plt.ylabel('Prices')\n",
    "    plt.xlabel(label)\n",
    "    plt.legend()\n",
    "    plt.show()"
   ]
  },
  {
   "cell_type": "code",
   "execution_count": 40,
   "id": "23c84837-2c92-4987-b525-668465cc6814",
   "metadata": {
    "tags": []
   },
   "outputs": [],
   "source": [
    "### YIL , MİLE VE ENGİNE CAP (dışında diğer değişkenlerin çok da bir etkisi olduğunu göremiyorum)"
   ]
  },
  {
   "cell_type": "code",
   "execution_count": 41,
   "id": "fb69f8c8-5f6c-4460-8faf-90f77cc8b34c",
   "metadata": {
    "tags": []
   },
   "outputs": [],
   "source": [
    "### Gerçi kategorik oldukları için aslında anlaşılıyor "
   ]
  },
  {
   "cell_type": "code",
   "execution_count": 42,
   "id": "f57f259f-fb4f-43a4-975b-9055cac81954",
   "metadata": {
    "tags": []
   },
   "outputs": [
    {
     "data": {
      "text/html": [
       "<div>\n",
       "<style scoped>\n",
       "    .dataframe tbody tr th:only-of-type {\n",
       "        vertical-align: middle;\n",
       "    }\n",
       "\n",
       "    .dataframe tbody tr th {\n",
       "        vertical-align: top;\n",
       "    }\n",
       "\n",
       "    .dataframe thead th {\n",
       "        text-align: right;\n",
       "    }\n",
       "</style>\n",
       "<table border=\"1\" class=\"dataframe\">\n",
       "  <thead>\n",
       "    <tr style=\"text-align: right;\">\n",
       "      <th></th>\n",
       "      <th>Price</th>\n",
       "      <th>Model Year</th>\n",
       "      <th>Mileage</th>\n",
       "      <th>Engine Capacity</th>\n",
       "      <th>Assembly</th>\n",
       "      <th>Transmission Type</th>\n",
       "      <th>Registration Status</th>\n",
       "      <th>EngineT</th>\n",
       "    </tr>\n",
       "  </thead>\n",
       "  <tbody>\n",
       "    <tr>\n",
       "      <th>0</th>\n",
       "      <td>2385000</td>\n",
       "      <td>28</td>\n",
       "      <td>9869</td>\n",
       "      <td>1000</td>\n",
       "      <td>0</td>\n",
       "      <td>0</td>\n",
       "      <td>0</td>\n",
       "      <td>0</td>\n",
       "    </tr>\n",
       "    <tr>\n",
       "      <th>1</th>\n",
       "      <td>111000</td>\n",
       "      <td>30</td>\n",
       "      <td>11111</td>\n",
       "      <td>1300</td>\n",
       "      <td>1</td>\n",
       "      <td>0</td>\n",
       "      <td>0</td>\n",
       "      <td>0</td>\n",
       "    </tr>\n",
       "    <tr>\n",
       "      <th>2</th>\n",
       "      <td>1530000</td>\n",
       "      <td>30</td>\n",
       "      <td>17500</td>\n",
       "      <td>660</td>\n",
       "      <td>1</td>\n",
       "      <td>0</td>\n",
       "      <td>0</td>\n",
       "      <td>0</td>\n",
       "    </tr>\n",
       "    <tr>\n",
       "      <th>3</th>\n",
       "      <td>1650000</td>\n",
       "      <td>30</td>\n",
       "      <td>9600</td>\n",
       "      <td>660</td>\n",
       "      <td>1</td>\n",
       "      <td>0</td>\n",
       "      <td>0</td>\n",
       "      <td>0</td>\n",
       "    </tr>\n",
       "    <tr>\n",
       "      <th>4</th>\n",
       "      <td>1435000</td>\n",
       "      <td>21</td>\n",
       "      <td>120000</td>\n",
       "      <td>1300</td>\n",
       "      <td>1</td>\n",
       "      <td>0</td>\n",
       "      <td>0</td>\n",
       "      <td>0</td>\n",
       "    </tr>\n",
       "  </tbody>\n",
       "</table>\n",
       "</div>"
      ],
      "text/plain": [
       "     Price  Model Year  Mileage  Engine Capacity  Assembly  Transmission Type  \\\n",
       "0  2385000          28     9869             1000         0                  0   \n",
       "1   111000          30    11111             1300         1                  0   \n",
       "2  1530000          30    17500              660         1                  0   \n",
       "3  1650000          30     9600              660         1                  0   \n",
       "4  1435000          21   120000             1300         1                  0   \n",
       "\n",
       "   Registration Status EngineT  \n",
       "0                    0       0  \n",
       "1                    0       0  \n",
       "2                    0       0  \n",
       "3                    0       0  \n",
       "4                    0       0  "
      ]
     },
     "execution_count": 42,
     "metadata": {},
     "output_type": "execute_result"
    }
   ],
   "source": [
    "df.head()"
   ]
  },
  {
   "cell_type": "markdown",
   "id": "019191d8-b2f1-419e-a279-77a281ad74b5",
   "metadata": {},
   "source": [
    "### ML "
   ]
  },
  {
   "cell_type": "code",
   "execution_count": 43,
   "id": "b6408d89-51eb-461e-a117-0df385a40208",
   "metadata": {
    "tags": []
   },
   "outputs": [],
   "source": [
    "### öncelikle sade linear Regression deneyeceğim "
   ]
  },
  {
   "cell_type": "code",
   "execution_count": 44,
   "id": "ce7e2014-f8b4-44ce-8ebf-b64c54fbc042",
   "metadata": {
    "tags": []
   },
   "outputs": [],
   "source": [
    "from sklearn.model_selection import train_test_split\n",
    "from sklearn.linear_model import LinearRegression\n",
    "from sklearn.metrics import mean_absolute_error,mean_squared_error"
   ]
  },
  {
   "cell_type": "code",
   "execution_count": 45,
   "id": "d573ec50-3cde-42f0-9b50-801ebca7fb57",
   "metadata": {
    "tags": []
   },
   "outputs": [],
   "source": [
    "X= df.drop(['Price'],axis=1)\n",
    "y= df['Price']\n",
    "\n",
    "X_train, X_test, y_train, y_test = train_test_split(X, y, test_size=0.33, random_state=42)"
   ]
  },
  {
   "cell_type": "code",
   "execution_count": 46,
   "id": "bfacb81b-b72f-4f9c-a54e-571cc9d5c6dd",
   "metadata": {
    "tags": []
   },
   "outputs": [],
   "source": [
    "lr = LinearRegression()"
   ]
  },
  {
   "cell_type": "code",
   "execution_count": 47,
   "id": "b40aa37b-5d24-49c0-bf17-37655267e90e",
   "metadata": {
    "tags": []
   },
   "outputs": [],
   "source": [
    "model = lr.fit(X_train,y_train)\n",
    "pred = model.predict(X_test)"
   ]
  },
  {
   "cell_type": "code",
   "execution_count": 48,
   "id": "f24d8a5b-1074-4c0b-8057-2b846caf7936",
   "metadata": {
    "tags": []
   },
   "outputs": [
    {
     "name": "stdout",
     "output_type": "stream",
     "text": [
      "890629.894879536\n"
     ]
    }
   ],
   "source": [
    "print(mean_absolute_error(y_test,pred))"
   ]
  },
  {
   "cell_type": "code",
   "execution_count": 49,
   "id": "83a64add-74c4-430f-9625-7ebba6cc48ab",
   "metadata": {
    "tags": []
   },
   "outputs": [
    {
     "data": {
      "text/plain": [
       "0.5472158080418006"
      ]
     },
     "execution_count": 49,
     "metadata": {},
     "output_type": "execute_result"
    }
   ],
   "source": [
    "model.score(X_test,y_test)"
   ]
  },
  {
   "cell_type": "code",
   "execution_count": null,
   "id": "b4aad89a-4b8b-4edf-8507-fd8995f09002",
   "metadata": {},
   "outputs": [],
   "source": []
  },
  {
   "cell_type": "code",
   "execution_count": null,
   "id": "1b6ce23c-38a6-401e-9a46-86803eb2f318",
   "metadata": {},
   "outputs": [],
   "source": []
  },
  {
   "cell_type": "code",
   "execution_count": null,
   "id": "26688560-cc55-4d7b-a80a-811546593f33",
   "metadata": {},
   "outputs": [],
   "source": []
  },
  {
   "cell_type": "code",
   "execution_count": null,
   "id": "e1ee6767-1ed8-4850-8630-dc3ad715b37d",
   "metadata": {},
   "outputs": [],
   "source": []
  },
  {
   "cell_type": "markdown",
   "id": "066b0212-3964-426b-8f3c-ff15e7315ee6",
   "metadata": {},
   "source": [
    "TENSOR FLOW"
   ]
  },
  {
   "cell_type": "code",
   "execution_count": 66,
   "id": "23591fce-e10b-4a77-a44a-633dce9d2739",
   "metadata": {
    "tags": []
   },
   "outputs": [],
   "source": [
    "#normalizer = tf.keras.layers.Normalization(\n",
    " #            input_shape = (7,))\n",
    "#normalizer.adapt(X_train)\n",
    "\n",
    "\n",
    "#Aldığım Hatayı çözümleyemedim"
   ]
  },
  {
   "cell_type": "code",
   "execution_count": 67,
   "id": "67da5e0f-3019-4f3e-9ee3-aec2184f7c35",
   "metadata": {
    "tags": []
   },
   "outputs": [],
   "source": [
    "X_train = np.asarray(X_train).astype('float32')\n",
    "y_train = np.asarray(y_train).astype('float32')\n",
    "y_test = np.asarray(y_test).astype('float32')\n",
    "X_test= np.asarray(X_test).astype('float32')\n",
    "\n",
    "normalizer = tf.keras.layers.Normalization(input_shape = (7,) ,axis=None)\n",
    "normalizer.adapt(X_train)"
   ]
  },
  {
   "cell_type": "markdown",
   "id": "599d02f6-7503-4ec0-a112-6ae822d027e0",
   "metadata": {
    "tags": []
   },
   "source": [
    "\n",
    "\n",
    "nn_model = tf.keras.Sequential([\n",
    "    normalizer,\n",
    "    tf.keras.layers.Dense(32,activation='relu'),\n",
    "    tf.keras.layers.Dropout(rate = 0.01),\n",
    "    tf.keras.layers.Dense(32,activation='relu'),\n",
    "    tf.keras.layers.Dropout(rate = 0.01),\n",
    "    tf.keras.layers.Dense(1)\n",
    "    \n",
    "])\n",
    "nn_model.compile(optimizer=tf.keras.optimizers.legacy.Adam(learning_rate = 0.01),loss = 'mean_squared_error')\n",
    "\n",
    "\n",
    "history= nn_model.fit(\n",
    "            X_train,y_train,\n",
    "            validation_split=0.2,\n",
    "            epochs=100)"
   ]
  },
  {
   "cell_type": "code",
   "execution_count": 124,
   "id": "4240fe75-3f3c-46e2-8f45-a71d4f494da9",
   "metadata": {
    "tags": []
   },
   "outputs": [],
   "source": [
    "def train_model(X_train,y_train,num_nodes,dropout_prob,lr,batch_size,epochs):\n",
    "    nn_model = tf.keras.Sequential([\n",
    "        tf.keras.layers.Dense(num_nodes,activation='linear',input_shape=(7,)),\n",
    "        tf.keras.layers.Dropout(dropout_prob),\n",
    "        tf.keras.layers.Dense(num_nodes,activation='linear'),\n",
    "        tf.keras.layers.Dropout(dropout_prob),\n",
    "        tf.keras.layers.Dense(num_nodes,activation='linear'),\n",
    "        tf.keras.layers.Dropout(dropout_prob),\n",
    "        tf.keras.layers.Dense(1)\n",
    "])\n",
    "\n",
    "    nn_model.compile(optimizer = tf.keras.optimizers.legacy.Adam(lr),loss='mean_squared_error')\n",
    "    history = nn_model.fit(\n",
    "       X_train,y_train, epochs = epochs,batch_size=batch_size,validation_split=0.2,verbose=0)\n",
    "    nn_prediction= nn_model.predict(X_test)\n",
    "    return nn_model,history,nn_prediction"
   ]
  },
  {
   "cell_type": "code",
   "execution_count": null,
   "id": "7c215d64-2d2b-4d6b-9f2b-e3e0eb47ea5f",
   "metadata": {
    "tags": []
   },
   "outputs": [
    {
     "name": "stdout",
     "output_type": "stream",
     "text": [
      "16 nodes , dropout 0 ,lr 0.1 , batch size 32\n",
      "475/475 [==============================] - 0s 182us/step\n",
      "16 nodes , dropout 0 ,lr 0.1 , batch size 64\n",
      "475/475 [==============================] - 0s 185us/step\n",
      "16 nodes , dropout 0 ,lr 0.1 , batch size 128\n",
      "475/475 [==============================] - 0s 185us/step\n",
      "16 nodes , dropout 0 ,lr 0.01 , batch size 32\n",
      "475/475 [==============================] - 0s 183us/step\n",
      "16 nodes , dropout 0 ,lr 0.01 , batch size 64\n"
     ]
    }
   ],
   "source": [
    "least_error = float('inf')\n",
    "least_error_list = []\n",
    "least_loss_model = None\n",
    "epochs = 100\n",
    "for num_nodes in [16,32,64]:\n",
    "    for dropout_prob in [0,0.2]:\n",
    "        for lr in [0.1,0.01,0.001]:\n",
    "            for batch_size in [32,64,128]:\n",
    "                print(f\"{num_nodes} nodes , dropout {dropout_prob} ,lr {lr} , batch size {batch_size}\")\n",
    "                model = train_model(X_train,y_train,num_nodes,dropout_prob,lr,batch_size,epochs)\n",
    "                least = mean_absolute_error(y_test,nn_prediction)\n",
    "                least_error_list.append(least)\n",
    "                if least_error > least:\n",
    "                    least_error = least\n",
    "                    \n",
    "                #least=final_model.score(X_test,y_test)\n",
    "                #if least_error > least :\n",
    "                 #   least_error = least\n",
    "                "
   ]
  },
  {
   "cell_type": "code",
   "execution_count": 83,
   "id": "9377bd9b-562b-491f-83c5-902cd744974d",
   "metadata": {
    "tags": []
   },
   "outputs": [
    {
     "name": "stdout",
     "output_type": "stream",
     "text": [
      "475/475 [==============================] - 0s 204us/step\n"
     ]
    }
   ],
   "source": [
    "#nn_pred=nn_model.predict(X_test)"
   ]
  },
  {
   "cell_type": "code",
   "execution_count": 84,
   "id": "83cbc212-81d2-4621-9b4b-86c2aa372ed0",
   "metadata": {
    "tags": []
   },
   "outputs": [
    {
     "name": "stdout",
     "output_type": "stream",
     "text": [
      "706752.44\n"
     ]
    }
   ],
   "source": [
    "#print(mean_absolute_error(y_test,nn_pred))"
   ]
  },
  {
   "cell_type": "code",
   "execution_count": 85,
   "id": "a5df9ae7-8582-4b2d-85ea-f316a9fd0391",
   "metadata": {
    "tags": []
   },
   "outputs": [
    {
     "name": "stdout",
     "output_type": "stream",
     "text": [
      "2296655000000.0\n"
     ]
    }
   ],
   "source": [
    "#print(mean_squared_error(y_test,nn_pred))"
   ]
  },
  {
   "cell_type": "code",
   "execution_count": 86,
   "id": "21102a33-3fee-47c7-8a76-7bb12f5507d6",
   "metadata": {
    "tags": []
   },
   "outputs": [
    {
     "name": "stdout",
     "output_type": "stream",
     "text": [
      "1515471.9\n"
     ]
    }
   ],
   "source": [
    "#print(np.sqrt(mean_squared_error(y_test,nn_pred)))"
   ]
  },
  {
   "cell_type": "code",
   "execution_count": 120,
   "id": "2840a860-3d4e-4037-8810-7df0e4c249e0",
   "metadata": {
    "tags": []
   },
   "outputs": [
    {
     "data": {
      "text/plain": [
       "[706752.44,\n",
       " 706752.44,\n",
       " 706752.44,\n",
       " 706752.44,\n",
       " 706752.44,\n",
       " 706752.44,\n",
       " 706752.44,\n",
       " 706752.44,\n",
       " 706752.44,\n",
       " 706752.44,\n",
       " 706752.44,\n",
       " 706752.44,\n",
       " 706752.44,\n",
       " 706752.44,\n",
       " 706752.44,\n",
       " 706752.44,\n",
       " 706752.44,\n",
       " 706752.44,\n",
       " 706752.44,\n",
       " 706752.44,\n",
       " 706752.44,\n",
       " 706752.44,\n",
       " 706752.44,\n",
       " 706752.44,\n",
       " 706752.44,\n",
       " 706752.44,\n",
       " 706752.44,\n",
       " 706752.44,\n",
       " 706752.44,\n",
       " 706752.44,\n",
       " 706752.44,\n",
       " 706752.44,\n",
       " 706752.44,\n",
       " 706752.44,\n",
       " 706752.44,\n",
       " 706752.44,\n",
       " 706752.44,\n",
       " 706752.44,\n",
       " 706752.44,\n",
       " 706752.44,\n",
       " 706752.44,\n",
       " 706752.44,\n",
       " 706752.44,\n",
       " 706752.44,\n",
       " 706752.44,\n",
       " 706752.44,\n",
       " 706752.44,\n",
       " 706752.44,\n",
       " 706752.44,\n",
       " 706752.44,\n",
       " 706752.44,\n",
       " 706752.44,\n",
       " 706752.44,\n",
       " 706752.44]"
      ]
     },
     "execution_count": 120,
     "metadata": {},
     "output_type": "execute_result"
    }
   ],
   "source": [
    "least_error_list"
   ]
  },
  {
   "cell_type": "code",
   "execution_count": 121,
   "id": "eedb196a-3816-45bf-87ee-ad6f1b8fc314",
   "metadata": {
    "tags": []
   },
   "outputs": [
    {
     "data": {
      "text/plain": [
       "706752.44"
      ]
     },
     "execution_count": 121,
     "metadata": {},
     "output_type": "execute_result"
    }
   ],
   "source": [
    "least_error"
   ]
  },
  {
   "cell_type": "code",
   "execution_count": 122,
   "id": "c74c4d0b-c129-4e44-b399-be7ee017965d",
   "metadata": {
    "tags": []
   },
   "outputs": [
    {
     "name": "stdout",
     "output_type": "stream",
     "text": [
      "890629.894879536\n"
     ]
    }
   ],
   "source": [
    "print(mean_absolute_error(y_test,pred))"
   ]
  },
  {
   "cell_type": "code",
   "execution_count": 123,
   "id": "3b3cdabd-3a29-4795-971f-a511ae839f61",
   "metadata": {
    "tags": []
   },
   "outputs": [],
   "source": [
    "### TensorFlow daha iyi bir iş yapmış gibi gözüküyor"
   ]
  },
  {
   "cell_type": "code",
   "execution_count": 110,
   "id": "06391826-2818-4879-a2cf-fe044517ad63",
   "metadata": {
    "tags": []
   },
   "outputs": [],
   "source": []
  },
  {
   "cell_type": "code",
   "execution_count": null,
   "id": "783cc891-f642-4ab3-bb86-1aefeba41e06",
   "metadata": {},
   "outputs": [],
   "source": []
  },
  {
   "cell_type": "code",
   "execution_count": null,
   "id": "f8cb3c29-1f43-458b-bb09-f72682ebc454",
   "metadata": {},
   "outputs": [],
   "source": []
  }
 ],
 "metadata": {
  "kernelspec": {
   "display_name": "Python 3 (ipykernel)",
   "language": "python",
   "name": "python3"
  },
  "language_info": {
   "codemirror_mode": {
    "name": "ipython",
    "version": 3
   },
   "file_extension": ".py",
   "mimetype": "text/x-python",
   "name": "python",
   "nbconvert_exporter": "python",
   "pygments_lexer": "ipython3",
   "version": "3.11.4"
  }
 },
 "nbformat": 4,
 "nbformat_minor": 5
}
